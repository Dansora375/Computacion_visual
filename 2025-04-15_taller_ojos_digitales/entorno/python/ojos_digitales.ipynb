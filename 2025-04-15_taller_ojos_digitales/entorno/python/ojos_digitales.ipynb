{
 "cells": [
  {
   "cell_type": "markdown",
   "metadata": {},
   "source": [
    "# 🧪 Taller - Ojos Digitales: Introducción a la Visión Artificial\n",
    "\n",
    "Este notebook resuelve el taller utilizando OpenCV, NumPy y Matplotlib."
   ]
  },
  {
   "cell_type": "code",
   "execution_count": 15,
   "metadata": {},
   "outputs": [
    {
     "name": "stdout",
     "output_type": "stream",
     "text": [
      "Requirement already satisfied: opencv-python in c:\\users\\daniel\\appdata\\local\\programs\\python\\python312\\lib\\site-packages (4.11.0.86)\n",
      "Requirement already satisfied: matplotlib in c:\\users\\daniel\\appdata\\local\\programs\\python\\python312\\lib\\site-packages (3.10.1)\n",
      "Requirement already satisfied: numpy in c:\\users\\daniel\\appdata\\local\\programs\\python\\python312\\lib\\site-packages (2.2.4)\n",
      "Requirement already satisfied: contourpy>=1.0.1 in c:\\users\\daniel\\appdata\\local\\programs\\python\\python312\\lib\\site-packages (from matplotlib) (1.3.1)\n",
      "Requirement already satisfied: cycler>=0.10 in c:\\users\\daniel\\appdata\\local\\programs\\python\\python312\\lib\\site-packages (from matplotlib) (0.12.1)\n",
      "Requirement already satisfied: fonttools>=4.22.0 in c:\\users\\daniel\\appdata\\local\\programs\\python\\python312\\lib\\site-packages (from matplotlib) (4.57.0)\n",
      "Requirement already satisfied: kiwisolver>=1.3.1 in c:\\users\\daniel\\appdata\\local\\programs\\python\\python312\\lib\\site-packages (from matplotlib) (1.4.8)\n",
      "Requirement already satisfied: packaging>=20.0 in c:\\users\\daniel\\appdata\\local\\programs\\python\\python312\\lib\\site-packages (from matplotlib) (24.2)\n",
      "Requirement already satisfied: pillow>=8 in c:\\users\\daniel\\appdata\\local\\programs\\python\\python312\\lib\\site-packages (from matplotlib) (11.2.1)\n",
      "Requirement already satisfied: pyparsing>=2.3.1 in c:\\users\\daniel\\appdata\\local\\programs\\python\\python312\\lib\\site-packages (from matplotlib) (3.2.3)\n",
      "Requirement already satisfied: python-dateutil>=2.7 in c:\\users\\daniel\\appdata\\local\\programs\\python\\python312\\lib\\site-packages (from matplotlib) (2.9.0.post0)\n",
      "Requirement already satisfied: six>=1.5 in c:\\users\\daniel\\appdata\\local\\programs\\python\\python312\\lib\\site-packages (from python-dateutil>=2.7->matplotlib) (1.17.0)\n",
      "Note: you may need to restart the kernel to use updated packages.\n"
     ]
    },
    {
     "name": "stderr",
     "output_type": "stream",
     "text": [
      "\n",
      "[notice] A new release of pip is available: 24.0 -> 25.0.1\n",
      "[notice] To update, run: python.exe -m pip install --upgrade pip\n"
     ]
    }
   ],
   "source": [
    "# 1. Importar librerías necesarias\n",
    "# Instalación automática si no tienes los paquetes\n",
    "%pip install opencv-python matplotlib numpy\n",
    "\n",
    "import cv2\n",
    "import numpy as np\n",
    "import matplotlib.pyplot as plt\n",
    "\n",
    "# Función para visualizar imágenes fácilmente\n",
    "def show_image(img, title=\"Imagen\", cmap_type='gray'):\n",
    "    plt.figure(figsize=(6,6))\n",
    "    plt.imshow(img, cmap=cmap_type)\n",
    "    plt.title(title)\n",
    "    plt.axis('off')\n",
    "    plt.show()"
   ]
  },
  {
   "cell_type": "code",
   "execution_count": null,
   "metadata": {},
   "outputs": [
    {
     "name": "stdout",
     "output_type": "stream",
     "text": [
      "Cargando imagen desde: ../../datos/flor2.jpg\n",
      "Imagen cargada exitosamente.\n",
      "Imagen convertida a escala de grises.\n",
      "Aplicando filtro de suavizado (Blur)...\n",
      "Aplicando filtro de enfoque (Sharpening)...\n",
      "Aplicando detección de bordes con Sobel...\n",
      "Aplicando detección de bordes con Laplaciano...\n",
      "Mostrando resultados en ventanas (usando cv2.imshow)...\n",
      "Presiona cualquier tecla en una de las ventanas para cerrar todas.\n"
     ]
    }
   ],
   "source": [
    "import cv2\n",
    "import numpy as np\n",
    "import matplotlib.pyplot as plt\n",
    "\n",
    "# --- Configuración ---\n",
    "# Ruta a tu imagen. ¡ASEGÚRATE DE CAMBIAR ESTO!\n",
    "# Puedes descargar una imagen de prueba o usar una propia.\n",
    "image_path = '../../datos/flor2.jpg'\n",
    "\n",
    "# Tamaños de kernel para filtros (deben ser impares)\n",
    "kernel_size_blur = (5, 5) \n",
    "kernel_size_sobel = 5 # Tamaño del kernel para Sobel\n",
    "\n",
    "# --- 1. Cargar una imagen a color ---\n",
    "print(f\"Cargando imagen desde: {image_path}\")\n",
    "img_color = cv2.imread(image_path)\n",
    "\n",
    "# Verificar si la imagen se cargó correctamente\n",
    "if img_color is None:\n",
    "    print(f\"Error: No se pudo cargar la imagen desde {image_path}\")\n",
    "    print(\"Por favor, verifica que la ruta de la imagen sea correcta.\")\n",
    "    exit() # Salir del script si la imagen no se carga\n",
    "\n",
    "print(\"Imagen cargada exitosamente.\")\n",
    "\n",
    "# --- 2. Convertir a escala de grises ---\n",
    "# OpenCV carga las imágenes en formato BGR por defecto\n",
    "img_gray = cv2.cvtColor(img_color, cv2.COLOR_BGR2GRAY)\n",
    "print(\"Imagen convertida a escala de grises.\")\n",
    "\n",
    "# --- 3. Aplicar filtros convolucionales simples ---\n",
    "\n",
    "# Filtro Blur (Suavizado) - Usamos GaussianBlur que es común y efectivo\n",
    "print(\"Aplicando filtro de suavizado (Blur)...\")\n",
    "img_blur = cv2.GaussianBlur(img_gray, kernel_size_blur, 0)\n",
    "\n",
    "# Filtro Sharpening (Enfoque) - Usamos un kernel de ejemplo\n",
    "print(\"Aplicando filtro de enfoque (Sharpening)...\")\n",
    "# Definimos un kernel para enfoque\n",
    "kernel_sharpening = np.array([[0, -1, 0],\n",
    "                              [-1, 5, -1],\n",
    "                              [0, -1, 0]])\n",
    "# Aplicamos la convolución\n",
    "img_sharpened = cv2.filter2D(img_gray, -1, kernel_sharpening) # -1 indica que la profundidad de salida es la misma que la de entrada\n",
    "\n",
    "# --- 4. Implementar detección de bordes ---\n",
    "\n",
    "# Filtro de Sobel en X y Y\n",
    "print(\"Aplicando detección de bordes con Sobel...\")\n",
    "# Calcula los gradientes en la dirección X\n",
    "# cv2.CV_64F es el tipo de dato de salida, usamos float para evitar truncamiento\n",
    "sobelx = cv2.Sobel(img_gray, cv2.CV_64F, 1, 0, ksize=kernel_size_sobel) # dx=1, dy=0\n",
    "# Calcula los gradientes en la dirección Y\n",
    "sobely = cv2.Sobel(img_gray, cv2.CV_64F, 0, 1, ksize=kernel_size_sobel) # dx=0, dy=1\n",
    "\n",
    "# Los resultados de Sobel (y Laplacian) pueden tener valores negativos o > 255.\n",
    "# convertScaleAbs calcula el valor absoluto y lo convierte a 8 bits (0-255)\n",
    "abs_sobelx = cv2.convertScaleAbs(sobelx)\n",
    "abs_sobely = cv2.convertScaleAbs(sobely)\n",
    "\n",
    "# Combinar los resultados de Sobel X y Y para obtener la magnitud aproximada del gradiente\n",
    "# Usamos addWeighted para sumar las imágenes con un peso\n",
    "sobel_combined = cv2.addWeighted(abs_sobelx, 0.5, abs_sobely, 0.5, 0)\n",
    "\n",
    "# Filtro Laplaciano\n",
    "print(\"Aplicando detección de bordes con Laplaciano...\")\n",
    "# Calcula el Laplaciano\n",
    "laplacian = cv2.Laplacian(img_gray, cv2.CV_64F)\n",
    "# Convierte a 8 bits sin signo\n",
    "abs_laplacian = cv2.convertScaleAbs(laplacian)\n",
    "\n",
    "\n",
    "# --- 5. Visualizar cada resultado ---\n",
    "\n",
    "# Usando cv2.imshow() para abrir ventanas separadas\n",
    "print(\"Mostrando resultados en ventanas (usando cv2.imshow)...\")\n",
    "cv2.imshow('Original Color', img_color)\n",
    "cv2.imshow('1 - Grayscale', img_gray)\n",
    "cv2.imshow('2 - Blurred', img_blur)\n",
    "cv2.imshow('3 - Sharpened', img_sharpened)\n",
    "cv2.imshow('4 - Sobel X', abs_sobelx)\n",
    "cv2.imshow('5 - Sobel Y', abs_sobely)\n",
    "cv2.imshow('6 - Sobel Combined (X+Y)', sobel_combined)\n",
    "cv2.imshow('7 - Laplacian', abs_laplacian)\n",
    "\n",
    "# Esperar indefinidamente hasta que se presione una tecla\n",
    "# Esto mantiene las ventanas abiertas\n",
    "print(\"Presiona cualquier tecla en una de las ventanas para cerrar todas.\")\n",
    "cv2.waitKey(0) \n",
    "\n",
    "# Destruir todas las ventanas de OpenCV\n",
    "cv2.destroyAllWindows()\n",
    "print(\"Ventanas cerradas.\")\n",
    "\n",
    "\n",
    "\n",
    "print(\"\\nScript finalizado. ¡Explora los resultados y experimenta con diferentes imágenes y parámetros!\")"
   ]
  }
 ],
 "metadata": {
  "kernelspec": {
   "display_name": "Python 3",
   "language": "python",
   "name": "python3"
  },
  "language_info": {
   "codemirror_mode": {
    "name": "ipython",
    "version": 3
   },
   "file_extension": ".py",
   "mimetype": "text/x-python",
   "name": "python",
   "nbconvert_exporter": "python",
   "pygments_lexer": "ipython3",
   "version": "3.12.3"
  }
 },
 "nbformat": 4,
 "nbformat_minor": 2
}
