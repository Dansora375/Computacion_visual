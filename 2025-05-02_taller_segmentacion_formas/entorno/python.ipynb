{
 "cells": [
  {
   "cell_type": "markdown",
   "metadata": {},
   "source": [
    "# 🧪 Taller - Segmentando el Mundo: Binarización y Reconocimiento de Formas"
   ]
  },
  {
   "cell_type": "code",
   "execution_count": null,
   "metadata": {},
   "outputs": [],
   "source": [
    "# 🔧 Instalar librerías necesarias\n",
    "!pip install opencv-python-headless matplotlib numpy"
   ]
  },
  {
   "cell_type": "markdown",
   "metadata": {},
   "source": [
    "## 📥 Cargar imagen en escala de grises"
   ]
  },
  {
   "cell_type": "code",
   "execution_count": null,
   "metadata": {},
   "outputs": [],
   "source": [
    "import cv2\n",
    "import numpy as np\n",
    "import matplotlib.pyplot as plt\n",
    "\n",
    "# 🔽 Reemplaza esto con la ruta de tu imagen (por ejemplo, desde Google Drive o una URL descargada)\n",
    "ruta_imagen = '../datos/mano.jpg'  # ← cambia esto\n",
    "img = cv2.imread(ruta_imagen, cv2.IMREAD_GRAYSCALE)\n",
    "\n",
    "plt.imshow(img, cmap='gray')\n",
    "plt.title('Imagen Original')\n",
    "plt.axis('off')\n",
    "plt.show()"
   ]
  },
  {
   "cell_type": "markdown",
   "metadata": {},
   "source": [
    "## 🔍 Segmentación binaria: Umbral fijo y adaptativo"
   ]
  },
  {
   "cell_type": "code",
   "execution_count": null,
   "metadata": {},
   "outputs": [],
   "source": [
    "# Umbral fijo\n",
    "_, binary_fixed = cv2.threshold(img, 127, 255, cv2.THRESH_BINARY)\n",
    "\n",
    "# Umbral adaptativo\n",
    "binary_adapt = cv2.adaptiveThreshold(\n",
    "    img, 255, cv2.ADAPTIVE_THRESH_MEAN_C,\n",
    "    cv2.THRESH_BINARY, blockSize=11, C=2\n",
    ")\n",
    "\n",
    "# Mostrar ambos resultados\n",
    "fig, axs = plt.subplots(1, 2, figsize=(10, 4))\n",
    "axs[0].imshow(binary_fixed, cmap='gray')\n",
    "axs[0].set_title('Umbral Fijo')\n",
    "axs[0].axis('off')\n",
    "axs[1].imshow(binary_adapt, cmap='gray')\n",
    "axs[1].set_title('Umbral Adaptativo')\n",
    "axs[1].axis('off')\n",
    "plt.show()"
   ]
  },
  {
   "cell_type": "markdown",
   "metadata": {},
   "source": [
    "## 🧭 Detección de contornos"
   ]
  },
  {
   "cell_type": "code",
   "execution_count": null,
   "metadata": {},
   "outputs": [],
   "source": [
    "contours, _ = cv2.findContours(binary_fixed, cv2.RETR_EXTERNAL, cv2.CHAIN_APPROX_SIMPLE)\n",
    "img_contours = cv2.cvtColor(img, cv2.COLOR_GRAY2BGR)\n",
    "\n",
    "for c in contours:\n",
    "    cv2.drawContours(img_contours, [c], -1, (0, 255, 0), 2)\n",
    "\n",
    "plt.imshow(cv2.cvtColor(img_contours, cv2.COLOR_BGR2RGB))\n",
    "plt.title('Contornos Detectados')\n",
    "plt.axis('off')\n",
    "plt.show()"
   ]
  },
  {
   "cell_type": "markdown",
   "metadata": {},
   "source": [
    "## 📌 Centro de masa y bounding boxes"
   ]
  },
  {
   "cell_type": "code",
   "execution_count": null,
   "metadata": {},
   "outputs": [],
   "source": [
    "img_shapes = img_contours.copy()\n",
    "areas = []\n",
    "perimeters = []\n",
    "\n",
    "for c in contours:\n",
    "    M = cv2.moments(c)\n",
    "    if M['m00'] != 0:\n",
    "        cx = int(M['m10']/M['m00'])\n",
    "        cy = int(M['m01']/M['m00'])\n",
    "        cv2.circle(img_shapes, (cx, cy), 4, (0, 0, 255), -1)\n",
    "    \n",
    "    x, y, w, h = cv2.boundingRect(c)\n",
    "    cv2.rectangle(img_shapes, (x, y), (x + w, y + h), (255, 0, 0), 2)\n",
    "\n",
    "    area = cv2.contourArea(c)\n",
    "    perimeter = cv2.arcLength(c, True)\n",
    "    areas.append(area)\n",
    "    perimeters.append(perimeter)\n",
    "\n",
    "plt.imshow(cv2.cvtColor(img_shapes, cv2.COLOR_BGR2RGB))\n",
    "plt.title('Centro de masa y bounding boxes')\n",
    "plt.axis('off')\n",
    "plt.show()"
   ]
  },
  {
   "cell_type": "markdown",
   "metadata": {},
   "source": [
    "## 📊 Métricas básicas"
   ]
  },
  {
   "cell_type": "code",
   "execution_count": null,
   "metadata": {},
   "outputs": [],
   "source": [
    "num_formas = len(contours)\n",
    "area_prom = np.mean(areas)\n",
    "perimetro_prom = np.mean(perimeters)\n",
    "\n",
    "print(f\"Número de formas detectadas: {num_formas}\")\n",
    "print(f\"Área promedio: {area_prom:.2f}\")\n",
    "print(f\"Perímetro promedio: {perimetro_prom:.2f}\")"
   ]
  }
 ],
 "metadata": {
  "kernelspec": {
   "display_name": "Python 3",
   "name": "python3"
  },
  "language_info": {
   "codemirror_mode": {
    "name": "ipython",
    "version": 3
   },
   "file_extension": ".py",
   "mimetype": "text/x-python",
   "name": "python",
   "nbconvert_exporter": "python",
   "pygments_lexer": "ipython3",
   "version": "3.12.3"
  }
 },
 "nbformat": 4,
 "nbformat_minor": 0
}
