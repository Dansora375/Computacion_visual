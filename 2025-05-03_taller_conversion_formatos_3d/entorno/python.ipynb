```json
{
  "nbformat": 4,
  "nbformat_minor": 5,
  "metadata": {
    "kernelspec": {
      "display_name": "Python 3",
      "language": "python",
      "name": "python3"
    },
    "language_info": { "name": "python", "version": "3.x" }
  },
  "cells": [
    {
      "cell_type": "markdown",
      "metadata": {},
      "source": [
        "# 🧪 Taller - Importando el Mundo: Visualización y Conversión de Formatos 3D\\n",
        "Este cuaderno carga, analiza y convierte modelos 3D en .OBJ, .STL y .GLTF"
      ]
    },
    {
      "cell_type": "code",
      "metadata": {},
      "execution_count": null,
      "outputs": [],
      "source": [
        "# 1. Instalación de librerías\\n",
        "!pip install trimesh open3d pyassimp numpy"
      ]
    },
    {
      "cell_type": "code",
      "metadata": {},
      "execution_count": null,
      "outputs": [],
      "source": [
        "# 2. Importar librerías\\n",
        "import trimesh\\n",
        "import open3d as o3d\\n",
        "import numpy as np\\n",
        "import pyassimp\\n",
        "from pathlib import Path"
      ]
    },
    {
      "cell_type": "code",
      "metadata": {},
      "execution_count": null,
      "outputs": [],
      "source": [
        "# 3. Funciones auxiliares\\n",
        "def cargar_modelo(path):\\n",
        "    ext = Path(path).suffix.lower()\\n",
        "    return trimesh.load(path, force='mesh')\\n",
        "def info_modelo(m):\\n",
        "    return {'vertices': len(m.vertices), 'faces': len(m.faces), \\
",
        "            'normales': getattr(m, 'face_normals', None).shape[0] if hasattr(m, 'face_normals') else None}"
      ]
    },
    {
      "cell_type": "code",
      "metadata": {},
      "execution_count": null,
      "outputs": [],
      "source": [
        "# 4. Cargar y comparar modelos\\n",
        "archivos = {'OBJ':'modelo.obj','STL':'modelo.stl','GLTF':'modelo.gltf'}\\n",
        "resultados = {fmt: info_modelo(cargar_modelo(p)) for fmt,p in archivos.items()}\\n",
        "resultados"
      ]
    },
    {
      "cell_type": "code",
      "metadata": {},
      "execution_count": null,
      "outputs": [],
      "source": [
        "# 5. Visualización\\n",
        "for fmt,p in archivos.items():\\n",
        "    m = cargar_modelo(p); print(fmt); m.show()"
      ]
    },
    {
      "cell_type": "code",
      "metadata": {},
      "execution_count": null,
      "outputs": [],
      "source": [
        "# 6. Conversión de formatos\\n",
        "m = cargar_modelo('modelo.obj')\\n",
        "m.export('salida/modelo.stl')\\n",
        "m.export('salida/modelo.gltf')",
        "print('Conversiones completadas')"
      ]
    },
    {
      "cell_type": "code",
      "metadata": {},
      "execution_count": null,
      "outputs": [],
      "source": [
        "# Bonus: Comparación automatizada\\n",
        "import glob, pandas as pd\\n",
        "def comparar_carpeta(carpeta):\\n",
        "    datos=[]\\n",
        "    for f in glob.glob(f'{carpeta}/*'):\\n",
        "        try: m=cargar_modelo(f); info=info_modelo(m)\\n",
        "        info.update({'archivo':f,'formato':Path(f).suffix}); datos.append(info)\\n",
        "        except: pass\\n",
        "    return pd.DataFrame(datos)\\n",
        "df=comparar_carpeta('salida'); df"
      ]
    }
  ]
}
```
