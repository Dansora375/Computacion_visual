{
 "cells": [
  {
   "cell_type": "markdown",
   "id": "898d15a9",
   "metadata": {},
   "source": [
    "# 🧪 Taller: Comparación y Conversión de Modelos 3D\n",
    "**Herramientas:** `trimesh`, `open3d`, `numpy`\n",
    "\n",
    "**Objetivos:**\n",
    "- Cargar modelos `.OBJ`, `.STL`, `.GLTF`\n",
    "- Comparar vértices, caras, normales, duplicados\n",
    "- Visualizar modelos\n",
    "- Convertir entre formatos\n",
    "- (Bonus) Automatizar comparación entre modelos"
   ]
  },
  {
   "cell_type": "code",
   "execution_count": 18,
   "id": "4b375218",
   "metadata": {},
   "outputs": [
    {
     "name": "stdout",
     "output_type": "stream",
     "text": [
      "Requirement already satisfied: trimesh in c:\\users\\daniel\\appdata\\local\\programs\\python\\python312\\lib\\site-packages (4.6.8)\n",
      "Requirement already satisfied: open3d in c:\\users\\daniel\\appdata\\local\\programs\\python\\python312\\lib\\site-packages (0.19.0)\n",
      "Requirement already satisfied: numpy in c:\\users\\daniel\\appdata\\local\\programs\\python\\python312\\lib\\site-packages (2.2.4)\n",
      "Requirement already satisfied: dash>=2.6.0 in c:\\users\\daniel\\appdata\\local\\programs\\python\\python312\\lib\\site-packages (from open3d) (3.0.4)\n",
      "Requirement already satisfied: werkzeug>=3.0.0 in c:\\users\\daniel\\appdata\\local\\programs\\python\\python312\\lib\\site-packages (from open3d) (3.0.6)\n",
      "Requirement already satisfied: flask>=3.0.0 in c:\\users\\daniel\\appdata\\local\\programs\\python\\python312\\lib\\site-packages (from open3d) (3.0.3)\n",
      "Requirement already satisfied: nbformat>=5.7.0 in c:\\users\\daniel\\appdata\\local\\programs\\python\\python312\\lib\\site-packages (from open3d) (5.10.4)\n",
      "Requirement already satisfied: configargparse in c:\\users\\daniel\\appdata\\local\\programs\\python\\python312\\lib\\site-packages (from open3d) (1.7)\n",
      "Requirement already satisfied: ipywidgets>=8.0.4 in c:\\users\\daniel\\appdata\\local\\programs\\python\\python312\\lib\\site-packages (from open3d) (8.1.6)\n",
      "Requirement already satisfied: plotly>=5.0.0 in c:\\users\\daniel\\appdata\\local\\programs\\python\\python312\\lib\\site-packages (from dash>=2.6.0->open3d) (6.0.1)\n",
      "Requirement already satisfied: importlib-metadata in c:\\users\\daniel\\appdata\\local\\programs\\python\\python312\\lib\\site-packages (from dash>=2.6.0->open3d) (8.7.0)\n",
      "Requirement already satisfied: typing-extensions>=4.1.1 in c:\\users\\daniel\\appdata\\local\\programs\\python\\python312\\lib\\site-packages (from dash>=2.6.0->open3d) (4.13.2)\n",
      "Requirement already satisfied: requests in c:\\users\\daniel\\appdata\\local\\programs\\python\\python312\\lib\\site-packages (from dash>=2.6.0->open3d) (2.32.3)\n",
      "Requirement already satisfied: retrying in c:\\users\\daniel\\appdata\\local\\programs\\python\\python312\\lib\\site-packages (from dash>=2.6.0->open3d) (1.3.4)\n",
      "Requirement already satisfied: nest-asyncio in c:\\users\\daniel\\appdata\\roaming\\python\\python312\\site-packages (from dash>=2.6.0->open3d) (1.6.0)\n",
      "Requirement already satisfied: setuptools in c:\\users\\daniel\\appdata\\local\\programs\\python\\python312\\lib\\site-packages (from dash>=2.6.0->open3d) (80.3.0)\n",
      "Requirement already satisfied: Jinja2>=3.1.2 in c:\\users\\daniel\\appdata\\local\\programs\\python\\python312\\lib\\site-packages (from flask>=3.0.0->open3d) (3.1.6)\n",
      "Requirement already satisfied: itsdangerous>=2.1.2 in c:\\users\\daniel\\appdata\\local\\programs\\python\\python312\\lib\\site-packages (from flask>=3.0.0->open3d) (2.2.0)\n",
      "Requirement already satisfied: click>=8.1.3 in c:\\users\\daniel\\appdata\\local\\programs\\python\\python312\\lib\\site-packages (from flask>=3.0.0->open3d) (8.1.8)\n",
      "Requirement already satisfied: blinker>=1.6.2 in c:\\users\\daniel\\appdata\\local\\programs\\python\\python312\\lib\\site-packages (from flask>=3.0.0->open3d) (1.9.0)\n",
      "Requirement already satisfied: comm>=0.1.3 in c:\\users\\daniel\\appdata\\roaming\\python\\python312\\site-packages (from ipywidgets>=8.0.4->open3d) (0.2.2)\n",
      "Requirement already satisfied: ipython>=6.1.0 in c:\\users\\daniel\\appdata\\roaming\\python\\python312\\site-packages (from ipywidgets>=8.0.4->open3d) (9.2.0)\n",
      "Requirement already satisfied: traitlets>=4.3.1 in c:\\users\\daniel\\appdata\\roaming\\python\\python312\\site-packages (from ipywidgets>=8.0.4->open3d) (5.14.3)\n",
      "Requirement already satisfied: widgetsnbextension~=4.0.14 in c:\\users\\daniel\\appdata\\local\\programs\\python\\python312\\lib\\site-packages (from ipywidgets>=8.0.4->open3d) (4.0.14)\n",
      "Requirement already satisfied: jupyterlab_widgets~=3.0.14 in c:\\users\\daniel\\appdata\\local\\programs\\python\\python312\\lib\\site-packages (from ipywidgets>=8.0.4->open3d) (3.0.14)\n",
      "Requirement already satisfied: fastjsonschema>=2.15 in c:\\users\\daniel\\appdata\\local\\programs\\python\\python312\\lib\\site-packages (from nbformat>=5.7.0->open3d) (2.21.1)\n",
      "Requirement already satisfied: jsonschema>=2.6 in c:\\users\\daniel\\appdata\\local\\programs\\python\\python312\\lib\\site-packages (from nbformat>=5.7.0->open3d) (4.23.0)\n",
      "Requirement already satisfied: jupyter-core!=5.0.*,>=4.12 in c:\\users\\daniel\\appdata\\roaming\\python\\python312\\site-packages (from nbformat>=5.7.0->open3d) (5.7.2)\n",
      "Requirement already satisfied: MarkupSafe>=2.1.1 in c:\\users\\daniel\\appdata\\local\\programs\\python\\python312\\lib\\site-packages (from werkzeug>=3.0.0->open3d) (3.0.2)\n",
      "Requirement already satisfied: colorama in c:\\users\\daniel\\appdata\\local\\programs\\python\\python312\\lib\\site-packages (from click>=8.1.3->flask>=3.0.0->open3d) (0.4.6)\n",
      "Requirement already satisfied: decorator in c:\\users\\daniel\\appdata\\roaming\\python\\python312\\site-packages (from ipython>=6.1.0->ipywidgets>=8.0.4->open3d) (5.2.1)\n",
      "Requirement already satisfied: ipython-pygments-lexers in c:\\users\\daniel\\appdata\\roaming\\python\\python312\\site-packages (from ipython>=6.1.0->ipywidgets>=8.0.4->open3d) (1.1.1)\n",
      "Requirement already satisfied: jedi>=0.16 in c:\\users\\daniel\\appdata\\roaming\\python\\python312\\site-packages (from ipython>=6.1.0->ipywidgets>=8.0.4->open3d) (0.19.2)\n",
      "Requirement already satisfied: matplotlib-inline in c:\\users\\daniel\\appdata\\roaming\\python\\python312\\site-packages (from ipython>=6.1.0->ipywidgets>=8.0.4->open3d) (0.1.7)\n",
      "Requirement already satisfied: prompt_toolkit<3.1.0,>=3.0.41 in c:\\users\\daniel\\appdata\\roaming\\python\\python312\\site-packages (from ipython>=6.1.0->ipywidgets>=8.0.4->open3d) (3.0.51)\n",
      "Requirement already satisfied: pygments>=2.4.0 in c:\\users\\daniel\\appdata\\roaming\\python\\python312\\site-packages (from ipython>=6.1.0->ipywidgets>=8.0.4->open3d) (2.19.1)\n",
      "Requirement already satisfied: stack_data in c:\\users\\daniel\\appdata\\roaming\\python\\python312\\site-packages (from ipython>=6.1.0->ipywidgets>=8.0.4->open3d) (0.6.3)\n",
      "Requirement already satisfied: attrs>=22.2.0 in c:\\users\\daniel\\appdata\\local\\programs\\python\\python312\\lib\\site-packages (from jsonschema>=2.6->nbformat>=5.7.0->open3d) (25.3.0)\n",
      "Requirement already satisfied: jsonschema-specifications>=2023.03.6 in c:\\users\\daniel\\appdata\\local\\programs\\python\\python312\\lib\\site-packages (from jsonschema>=2.6->nbformat>=5.7.0->open3d) (2025.4.1)\n",
      "Requirement already satisfied: referencing>=0.28.4 in c:\\users\\daniel\\appdata\\local\\programs\\python\\python312\\lib\\site-packages (from jsonschema>=2.6->nbformat>=5.7.0->open3d) (0.36.2)\n",
      "Requirement already satisfied: rpds-py>=0.7.1 in c:\\users\\daniel\\appdata\\local\\programs\\python\\python312\\lib\\site-packages (from jsonschema>=2.6->nbformat>=5.7.0->open3d) (0.24.0)\n",
      "Requirement already satisfied: platformdirs>=2.5 in c:\\users\\daniel\\appdata\\roaming\\python\\python312\\site-packages (from jupyter-core!=5.0.*,>=4.12->nbformat>=5.7.0->open3d) (4.3.7)\n",
      "Requirement already satisfied: pywin32>=300 in c:\\users\\daniel\\appdata\\roaming\\python\\python312\\site-packages (from jupyter-core!=5.0.*,>=4.12->nbformat>=5.7.0->open3d) (310)\n",
      "Requirement already satisfied: narwhals>=1.15.1 in c:\\users\\daniel\\appdata\\local\\programs\\python\\python312\\lib\\site-packages (from plotly>=5.0.0->dash>=2.6.0->open3d) (1.37.1)\n",
      "Requirement already satisfied: packaging in c:\\users\\daniel\\appdata\\local\\programs\\python\\python312\\lib\\site-packages (from plotly>=5.0.0->dash>=2.6.0->open3d) (24.2)\n",
      "Requirement already satisfied: zipp>=3.20 in c:\\users\\daniel\\appdata\\local\\programs\\python\\python312\\lib\\site-packages (from importlib-metadata->dash>=2.6.0->open3d) (3.21.0)\n",
      "Requirement already satisfied: charset-normalizer<4,>=2 in c:\\users\\daniel\\appdata\\local\\programs\\python\\python312\\lib\\site-packages (from requests->dash>=2.6.0->open3d) (3.4.2)\n",
      "Requirement already satisfied: idna<4,>=2.5 in c:\\users\\daniel\\appdata\\local\\programs\\python\\python312\\lib\\site-packages (from requests->dash>=2.6.0->open3d) (3.10)\n",
      "Requirement already satisfied: urllib3<3,>=1.21.1 in c:\\users\\daniel\\appdata\\local\\programs\\python\\python312\\lib\\site-packages (from requests->dash>=2.6.0->open3d) (2.4.0)\n",
      "Requirement already satisfied: certifi>=2017.4.17 in c:\\users\\daniel\\appdata\\local\\programs\\python\\python312\\lib\\site-packages (from requests->dash>=2.6.0->open3d) (2025.4.26)\n",
      "Requirement already satisfied: six>=1.7.0 in c:\\users\\daniel\\appdata\\local\\programs\\python\\python312\\lib\\site-packages (from retrying->dash>=2.6.0->open3d) (1.17.0)\n",
      "Requirement already satisfied: parso<0.9.0,>=0.8.4 in c:\\users\\daniel\\appdata\\roaming\\python\\python312\\site-packages (from jedi>=0.16->ipython>=6.1.0->ipywidgets>=8.0.4->open3d) (0.8.4)\n",
      "Requirement already satisfied: wcwidth in c:\\users\\daniel\\appdata\\roaming\\python\\python312\\site-packages (from prompt_toolkit<3.1.0,>=3.0.41->ipython>=6.1.0->ipywidgets>=8.0.4->open3d) (0.2.13)\n",
      "Requirement already satisfied: executing>=1.2.0 in c:\\users\\daniel\\appdata\\roaming\\python\\python312\\site-packages (from stack_data->ipython>=6.1.0->ipywidgets>=8.0.4->open3d) (2.2.0)\n",
      "Requirement already satisfied: asttokens>=2.1.0 in c:\\users\\daniel\\appdata\\roaming\\python\\python312\\site-packages (from stack_data->ipython>=6.1.0->ipywidgets>=8.0.4->open3d) (3.0.0)\n",
      "Requirement already satisfied: pure-eval in c:\\users\\daniel\\appdata\\roaming\\python\\python312\\site-packages (from stack_data->ipython>=6.1.0->ipywidgets>=8.0.4->open3d) (0.2.3)\n"
     ]
    },
    {
     "name": "stderr",
     "output_type": "stream",
     "text": [
      "\n",
      "[notice] A new release of pip is available: 24.0 -> 25.1.1\n",
      "[notice] To update, run: python.exe -m pip install --upgrade pip\n"
     ]
    },
    {
     "name": "stdout",
     "output_type": "stream",
     "text": [
      "Requirement already satisfied: scipy in c:\\users\\daniel\\appdata\\local\\programs\\python\\python312\\lib\\site-packages (1.15.2)\n",
      "Requirement already satisfied: numpy<2.5,>=1.23.5 in c:\\users\\daniel\\appdata\\local\\programs\\python\\python312\\lib\\site-packages (from scipy) (2.2.4)\n"
     ]
    },
    {
     "name": "stderr",
     "output_type": "stream",
     "text": [
      "\n",
      "[notice] A new release of pip is available: 24.0 -> 25.1.1\n",
      "[notice] To update, run: python.exe -m pip install --upgrade pip\n"
     ]
    }
   ],
   "source": [
    "# 🔧 Instalación de librerías (si es necesario)\n",
    "!pip install trimesh open3d numpy\n",
    "!pip install scipy"
   ]
  },
  {
   "cell_type": "code",
   "execution_count": 19,
   "id": "9939276a",
   "metadata": {},
   "outputs": [],
   "source": [
    "# 📦 Imports\n",
    "import trimesh\n",
    "import open3d as o3d\n",
    "import numpy as np\n",
    "import os\n",
    "\n",
    "def load_trimesh_model(path):\n",
    "    return trimesh.load(path, force='mesh')\n",
    "\n",
    "def load_open3d_model(path):\n",
    "    return o3d.io.read_triangle_mesh(path)"
   ]
  },
  {
   "cell_type": "code",
   "execution_count": 20,
   "id": "fa38473c",
   "metadata": {},
   "outputs": [],
   "source": [
    "# 📂 Inserta las rutas de tus archivos aquí\n",
    "path_obj = '../datos/goat.obj'\n",
    "path_stl = '../datos/skull.stl'\n",
    "path_gltf = '../datos/sol.gltf'"
   ]
  },
  {
   "cell_type": "code",
   "execution_count": 24,
   "id": "b8639c36",
   "metadata": {},
   "outputs": [],
   "source": [
    "def analyze_trimesh(mesh):\n",
    "    try:\n",
    "        normals_count = len(mesh.vertex_normals)\n",
    "    except Exception:\n",
    "        normals_count = 0  # Evita cálculo si requiere scipy\n",
    "\n",
    "    info = {\n",
    "        'vertices': len(mesh.vertices),\n",
    "        'faces': len(mesh.faces),\n",
    "        'normals': normals_count,\n",
    "        'has_duplicate_vertices': not mesh.is_watertight\n",
    "    }\n",
    "    return info"
   ]
  },
  {
   "cell_type": "code",
   "execution_count": 25,
   "id": "c445612d",
   "metadata": {},
   "outputs": [
    {
     "name": "stdout",
     "output_type": "stream",
     "text": [
      "\n",
      "🔍 Análisis de OBJ:\n",
      "vertices: 1021271\n",
      "faces: 1967318\n",
      "normals: 0\n",
      "has_duplicate_vertices: True\n",
      "\n",
      "🔍 Análisis de STL:\n",
      "vertices: 983599\n",
      "faces: 1967318\n",
      "normals: 0\n",
      "has_duplicate_vertices: False\n",
      "\n",
      "🔍 Análisis de GLTF:\n",
      "vertices: 14743\n",
      "faces: 28128\n",
      "normals: 0\n",
      "has_duplicate_vertices: True\n"
     ]
    }
   ],
   "source": [
    "# 📊 Carga y análisis\n",
    "models = {\n",
    "    'OBJ': load_trimesh_model(path_obj),\n",
    "    'STL': load_trimesh_model(path_stl),\n",
    "    'GLTF': load_trimesh_model(path_gltf)\n",
    "}\n",
    "\n",
    "for name, mesh in models.items():\n",
    "    print(f\"\\n🔍 Análisis de {name}:\")\n",
    "    for k, v in analyze_trimesh(mesh).items():\n",
    "        print(f\"{k}: {v}\")"
   ]
  },
  {
   "cell_type": "code",
   "execution_count": 26,
   "id": "1e7efae9",
   "metadata": {},
   "outputs": [
    {
     "name": "stdout",
     "output_type": "stream",
     "text": [
      "Mostrando: OBJ\n",
      "Mostrando: STL\n",
      "Mostrando: GLTF\n"
     ]
    }
   ],
   "source": [
    "# 👀 Visualización usando trimesh\n",
    "for name, mesh in models.items():\n",
    "    print(f\"Mostrando: {name}\")\n",
    "    mesh.show()"
   ]
  },
  {
   "cell_type": "code",
   "execution_count": 27,
   "id": "e6ae92d2",
   "metadata": {},
   "outputs": [
    {
     "name": "stdout",
     "output_type": "stream",
     "text": [
      "✅ OBJ exportado como .stl: converted_models\\obj_converted.stl\n",
      "✅ OBJ exportado como .obj: converted_models\\obj_converted.obj\n",
      "✅ OBJ exportado como .glb: converted_models\\obj_converted.glb\n",
      "✅ STL exportado como .stl: converted_models\\stl_converted.stl\n",
      "✅ STL exportado como .obj: converted_models\\stl_converted.obj\n",
      "✅ STL exportado como .glb: converted_models\\stl_converted.glb\n",
      "✅ GLTF exportado como .stl: converted_models\\gltf_converted.stl\n",
      "✅ GLTF exportado como .obj: converted_models\\gltf_converted.obj\n",
      "✅ GLTF exportado como .glb: converted_models\\gltf_converted.glb\n"
     ]
    }
   ],
   "source": [
    "# 🔄 Conversión entre formatos\n",
    "output_folder = \"converted_models\"\n",
    "os.makedirs(output_folder, exist_ok=True)\n",
    "\n",
    "export_formats = ['.stl', '.obj', '.glb']\n",
    "\n",
    "for name, mesh in models.items():\n",
    "    for ext in export_formats:\n",
    "        out_path = os.path.join(output_folder, f\"{name.lower()}_converted{ext}\")\n",
    "        try:\n",
    "            mesh.export(out_path)\n",
    "            print(f\"✅ {name} exportado como {ext}: {out_path}\")\n",
    "        except Exception as e:\n",
    "            print(f\"❌ Error exportando {name} a {ext}: {e}\")"
   ]
  },
  {
   "cell_type": "code",
   "execution_count": 29,
   "id": "297e43ac",
   "metadata": {},
   "outputs": [
    {
     "name": "stdout",
     "output_type": "stream",
     "text": [
      "\n",
      "📁 Archivo: goat.obj\n",
      "vertices: 1021271\n",
      "faces: 1967318\n",
      "normals: 0\n",
      "has_duplicate_vertices: True\n",
      "\n",
      "📁 Archivo: skull.stl\n",
      "vertices: 983599\n",
      "faces: 1967318\n",
      "normals: 0\n",
      "has_duplicate_vertices: False\n",
      "\n",
      "📁 Archivo: sol.gltf\n",
      "vertices: 14743\n",
      "faces: 28128\n",
      "normals: 0\n",
      "has_duplicate_vertices: True\n"
     ]
    }
   ],
   "source": [
    "# 💡 BONUS: Automatizar comparación entre varios modelos\n",
    "def batch_compare(paths):\n",
    "    for path in paths:\n",
    "        try:\n",
    "            mesh = trimesh.load(path, force='mesh')\n",
    "            info = analyze_trimesh(mesh)\n",
    "            print(f\"\\n📁 Archivo: {os.path.basename(path)}\")\n",
    "            for k, v in info.items():\n",
    "                print(f\"{k}: {v}\")\n",
    "        except Exception as e:\n",
    "            print(f\"❌ Error con {path}: {e}\")\n",
    "\n",
    "# 🧪 Ejemplo de uso:\n",
    "batch_compare([path_obj, path_stl, path_gltf])"
   ]
  }
 ],
 "metadata": {
  "kernelspec": {
   "display_name": "Python 3",
   "language": "python",
   "name": "python3"
  },
  "language_info": {
   "name": "python"
  }
 },
 "nbformat": 4,
 "nbformat_minor": 5
}
