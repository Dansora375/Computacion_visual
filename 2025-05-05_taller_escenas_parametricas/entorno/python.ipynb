{
 "cells": [
  {
   "cell_type": "markdown",
   "id": "99954741",
   "metadata": {},
   "source": [
    "# Generación y exportación de primitivas 3D\n",
    "## Herramientas: vedo, trimesh, open3d, numpy"
   ]
  },
  {
   "cell_type": "code",
   "execution_count": null,
   "id": "5c8729da",
   "metadata": {},
   "outputs": [],
   "source": [
    "# Instalación (si es necesario)\n",
    "!pip install vedo trimesh open3d numpy"
   ]
  },
  {
   "cell_type": "code",
   "execution_count": null,
   "id": "17260e4d",
   "metadata": {},
   "outputs": [],
   "source": [
    "import numpy as np\n",
    "import vedo\n",
    "import trimesh\n",
    "import open3d as o3d\n",
    "import json, csv, os"
   ]
  },
  {
   "cell_type": "markdown",
   "id": "a1279eb7",
   "metadata": {},
   "source": [
    "## Crear puntos en el espacio"
   ]
  },
  {
   "cell_type": "code",
   "execution_count": null,
   "id": "ad7c7a10",
   "metadata": {},
   "outputs": [],
   "source": [
    "# Lista de coordenadas\n",
    "coords = [\n",
    "    [0, 0, 0],\n",
    "    [2, 0, 0],\n",
    "    [0, 2, 0],\n",
    "    [0, 0, 2],\n",
    "    [2, 2, 2]\n",
    "]"
   ]
  },
  {
   "cell_type": "markdown",
   "id": "9bbaac9f",
   "metadata": {},
   "source": [
    "## Crear primitivas 3D con variación de color y forma"
   ]
  },
  {
   "cell_type": "code",
   "execution_count": null,
   "id": "a12a84a0",
   "metadata": {},
   "outputs": [],
   "source": [
    "# Lista para almacenar los objetos\n",
    "vedo_objs = []\n",
    "\n",
    "for i, coord in enumerate(coords):\n",
    "    if i % 3 == 0:\n",
    "        obj = vedo.Cube(pos=coord, side=1).color('red')  # corregido aquí\n",
    "    elif i % 3 == 1:\n",
    "        obj = vedo.Sphere(pos=coord, r=0.5).color('green')\n",
    "    else:\n",
    "        obj = vedo.Cylinder(pos=coord, r=0.3, height=1).color('blue')\n",
    "    vedo_objs.append(obj)"
   ]
  },
  {
   "cell_type": "markdown",
   "id": "459f82c0",
   "metadata": {},
   "source": [
    "## Exportar con vedo (.obj)"
   ]
  },
  {
   "cell_type": "code",
   "execution_count": null,
   "id": "9c562eab",
   "metadata": {},
   "outputs": [],
   "source": [
    "# Escena combinada y exportación .obj\n",
    "scene = vedo.Assembly(vedo_objs)\n",
    "vedo.write(scene, \"scene_vedo.obj\")"
   ]
  },
  {
   "cell_type": "markdown",
   "id": "8f21d44e",
   "metadata": {},
   "source": [
    "## Exportar con trimesh (.stl)"
   ]
  },
  {
   "cell_type": "code",
   "execution_count": null,
   "id": "2fd039e1",
   "metadata": {},
   "outputs": [],
   "source": [
    "trimesh_objs = []\n",
    "\n",
    "for vobj in vedo_objs:\n",
    "    mesh_tri = vedo.Mesh(vobj).triangulate()  # Garantiza que las caras sean triángulos\n",
    "    vertices = mesh_tri.points\n",
    "    faces = mesh_tri.faces()\n",
    "    mesh = trimesh.Trimesh(vertices=vertices, faces=faces, process=False)\n",
    "    trimesh_objs.append(mesh)\n",
    "\n",
    "# Escena y exportación\n",
    "scene = trimesh.Scene(trimesh_objs)\n",
    "scene.export(\"scene_trimesh.stl\")\n",
    "\n"
   ]
  },
  {
   "cell_type": "markdown",
   "id": "8716c9c0",
   "metadata": {},
   "source": [
    "## Exportar con Open3D (.ply)"
   ]
  },
  {
   "cell_type": "code",
   "execution_count": null,
   "id": "4cf86b17",
   "metadata": {},
   "outputs": [],
   "source": [
    "# Tomamos el objeto vedo y lo triangulamos para asegurar que todas las caras tengan 3 vértices\n",
    "mesh_tri = vedo.Mesh(vobj).triangulate()\n",
    "\n",
    "# Convertimos a formato NumPy adecuado\n",
    "vertices = np.asarray(mesh_tri.points, dtype=np.float64)\n",
    "faces = np.asarray(mesh_tri.faces(), dtype=np.int32)\n",
    "\n",
    "# Creamos malla Open3D\n",
    "mesh_o3d = o3d.geometry.TriangleMesh()\n",
    "mesh_o3d.vertices = o3d.utility.Vector3dVector(vertices)\n",
    "mesh_o3d.triangles = o3d.utility.Vector3iVector(faces)\n",
    "mesh_o3d.compute_vertex_normals()\n",
    "\n",
    "# Exportamos\n",
    "o3d.io.write_triangle_mesh(\"mesh_open3d.ply\", mesh_o3d)\n"
   ]
  },
  {
   "cell_type": "markdown",
   "id": "55f2a25f",
   "metadata": {},
   "source": [
    "## Bonus: Leer coordenadas desde archivo .csv"
   ]
  },
  {
   "cell_type": "code",
   "execution_count": null,
   "id": "7a7a953e",
   "metadata": {},
   "outputs": [],
   "source": [
    "# Guardar ejemplo .csv\n",
    "with open(\"coords.csv\", \"w\", newline='') as f:\n",
    "    writer = csv.writer(f)\n",
    "    writer.writerow([\"x\", \"y\", \"z\"])\n",
    "    writer.writerows(coords)\n",
    "\n",
    "# Leer coordenadas desde .csv\n",
    "coords_csv = []\n",
    "with open(\"coords.csv\", \"r\") as f:\n",
    "    reader = csv.DictReader(f)\n",
    "    for row in reader:\n",
    "        coords_csv.append([float(row['x']), float(row['y']), float(row['z'])])\n",
    "\n",
    "print(\"Coordenadas leídas:\", coords_csv)"
   ]
  }
 ],
 "metadata": {
  "kernelspec": {
   "display_name": "Python 3",
   "language": "python",
   "name": "python3"
  },
  "language_info": {
   "codemirror_mode": {
    "name": "ipython",
    "version": 3
   },
   "file_extension": ".py",
   "mimetype": "text/x-python",
   "name": "python",
   "nbconvert_exporter": "python",
   "pygments_lexer": "ipython3",
   "version": "3.12.3"
  }
 },
 "nbformat": 4,
 "nbformat_minor": 5
}
