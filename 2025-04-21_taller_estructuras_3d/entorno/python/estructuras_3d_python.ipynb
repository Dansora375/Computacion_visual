{
 "cells": [
  {
   "cell_type": "markdown",
   "id": "2341ea6f",
   "metadata": {},
   "source": [
    "# Visualización de Malla 3D en Python\n",
    "\n",
    "Este notebook carga un modelo 3D en formato `.obj`, muestra su información estructural (número de vértices, caras y aristas), y lo visualiza con diferentes colores para sus componentes. Opcionalmente, genera una animación rotando la malla y la guarda como un GIF.\n",
    "\n",
    "**Dependencias:**\n",
    "- trimesh\n",
    "- vedo\n",
    "- numpy\n",
    "- matplotlib\n",
    "\n",
    "Ejecuta la siguiente celda para instalar estas librerías si aún no las tienes instaladas en tu entorno."
   ]
  },
  {
   "cell_type": "code",
   "execution_count": 11,
   "id": "7e905a7f",
   "metadata": {},
   "outputs": [
    {
     "name": "stdout",
     "output_type": "stream",
     "text": [
      "Requirement already satisfied: trimesh in c:\\users\\daniel\\appdata\\local\\programs\\python\\python312\\lib\\site-packages (4.6.8)\n",
      "Requirement already satisfied: vedo in c:\\users\\daniel\\appdata\\local\\programs\\python\\python312\\lib\\site-packages (2025.5.3)\n",
      "Requirement already satisfied: numpy in c:\\users\\daniel\\appdata\\local\\programs\\python\\python312\\lib\\site-packages (2.2.4)\n",
      "Requirement already satisfied: matplotlib in c:\\users\\daniel\\appdata\\local\\programs\\python\\python312\\lib\\site-packages (3.10.1)\n",
      "Requirement already satisfied: vtk in c:\\users\\daniel\\appdata\\local\\programs\\python\\python312\\lib\\site-packages (from vedo) (9.4.2)\n",
      "Requirement already satisfied: typing-extensions in c:\\users\\daniel\\appdata\\local\\programs\\python\\python312\\lib\\site-packages (from vedo) (4.13.2)\n",
      "Requirement already satisfied: Pygments in c:\\users\\daniel\\appdata\\roaming\\python\\python312\\site-packages (from vedo) (2.19.1)\n",
      "Requirement already satisfied: contourpy>=1.0.1 in c:\\users\\daniel\\appdata\\local\\programs\\python\\python312\\lib\\site-packages (from matplotlib) (1.3.1)\n",
      "Requirement already satisfied: cycler>=0.10 in c:\\users\\daniel\\appdata\\local\\programs\\python\\python312\\lib\\site-packages (from matplotlib) (0.12.1)\n",
      "Requirement already satisfied: fonttools>=4.22.0 in c:\\users\\daniel\\appdata\\local\\programs\\python\\python312\\lib\\site-packages (from matplotlib) (4.57.0)\n",
      "Requirement already satisfied: kiwisolver>=1.3.1 in c:\\users\\daniel\\appdata\\local\\programs\\python\\python312\\lib\\site-packages (from matplotlib) (1.4.8)\n",
      "Requirement already satisfied: packaging>=20.0 in c:\\users\\daniel\\appdata\\local\\programs\\python\\python312\\lib\\site-packages (from matplotlib) (24.2)\n",
      "Requirement already satisfied: pillow>=8 in c:\\users\\daniel\\appdata\\local\\programs\\python\\python312\\lib\\site-packages (from matplotlib) (11.2.1)\n",
      "Requirement already satisfied: pyparsing>=2.3.1 in c:\\users\\daniel\\appdata\\local\\programs\\python\\python312\\lib\\site-packages (from matplotlib) (3.2.3)\n",
      "Requirement already satisfied: python-dateutil>=2.7 in c:\\users\\daniel\\appdata\\local\\programs\\python\\python312\\lib\\site-packages (from matplotlib) (2.9.0.post0)\n",
      "Requirement already satisfied: six>=1.5 in c:\\users\\daniel\\appdata\\local\\programs\\python\\python312\\lib\\site-packages (from python-dateutil>=2.7->matplotlib) (1.17.0)\n"
     ]
    },
    {
     "name": "stderr",
     "output_type": "stream",
     "text": [
      "\n",
      "[notice] A new release of pip is available: 24.0 -> 25.0.1\n",
      "[notice] To update, run: python.exe -m pip install --upgrade pip\n"
     ]
    },
    {
     "name": "stdout",
     "output_type": "stream",
     "text": [
      "Requirement already satisfied: vedo in c:\\users\\daniel\\appdata\\local\\programs\\python\\python312\\lib\\site-packages (2025.5.3)\n",
      "Requirement already satisfied: vtk in c:\\users\\daniel\\appdata\\local\\programs\\python\\python312\\lib\\site-packages (from vedo) (9.4.2)\n",
      "Requirement already satisfied: numpy in c:\\users\\daniel\\appdata\\local\\programs\\python\\python312\\lib\\site-packages (from vedo) (2.2.4)\n",
      "Requirement already satisfied: typing-extensions in c:\\users\\daniel\\appdata\\local\\programs\\python\\python312\\lib\\site-packages (from vedo) (4.13.2)\n",
      "Requirement already satisfied: Pygments in c:\\users\\daniel\\appdata\\roaming\\python\\python312\\site-packages (from vedo) (2.19.1)\n",
      "Requirement already satisfied: matplotlib>=2.0.0 in c:\\users\\daniel\\appdata\\local\\programs\\python\\python312\\lib\\site-packages (from vtk->vedo) (3.10.1)\n",
      "Requirement already satisfied: contourpy>=1.0.1 in c:\\users\\daniel\\appdata\\local\\programs\\python\\python312\\lib\\site-packages (from matplotlib>=2.0.0->vtk->vedo) (1.3.1)\n",
      "Requirement already satisfied: cycler>=0.10 in c:\\users\\daniel\\appdata\\local\\programs\\python\\python312\\lib\\site-packages (from matplotlib>=2.0.0->vtk->vedo) (0.12.1)\n",
      "Requirement already satisfied: fonttools>=4.22.0 in c:\\users\\daniel\\appdata\\local\\programs\\python\\python312\\lib\\site-packages (from matplotlib>=2.0.0->vtk->vedo) (4.57.0)\n",
      "Requirement already satisfied: kiwisolver>=1.3.1 in c:\\users\\daniel\\appdata\\local\\programs\\python\\python312\\lib\\site-packages (from matplotlib>=2.0.0->vtk->vedo) (1.4.8)\n",
      "Requirement already satisfied: packaging>=20.0 in c:\\users\\daniel\\appdata\\local\\programs\\python\\python312\\lib\\site-packages (from matplotlib>=2.0.0->vtk->vedo) (24.2)\n",
      "Requirement already satisfied: pillow>=8 in c:\\users\\daniel\\appdata\\local\\programs\\python\\python312\\lib\\site-packages (from matplotlib>=2.0.0->vtk->vedo) (11.2.1)\n",
      "Requirement already satisfied: pyparsing>=2.3.1 in c:\\users\\daniel\\appdata\\local\\programs\\python\\python312\\lib\\site-packages (from matplotlib>=2.0.0->vtk->vedo) (3.2.3)\n",
      "Requirement already satisfied: python-dateutil>=2.7 in c:\\users\\daniel\\appdata\\local\\programs\\python\\python312\\lib\\site-packages (from matplotlib>=2.0.0->vtk->vedo) (2.9.0.post0)\n",
      "Requirement already satisfied: six>=1.5 in c:\\users\\daniel\\appdata\\local\\programs\\python\\python312\\lib\\site-packages (from python-dateutil>=2.7->matplotlib>=2.0.0->vtk->vedo) (1.17.0)\n"
     ]
    },
    {
     "name": "stderr",
     "output_type": "stream",
     "text": [
      "\n",
      "[notice] A new release of pip is available: 24.0 -> 25.0.1\n",
      "[notice] To update, run: python.exe -m pip install --upgrade pip\n"
     ]
    }
   ],
   "source": [
    "# Instalar las dependencias necesarias\n",
    "!pip install trimesh vedo numpy matplotlib\n",
    "!pip install --upgrade vedo"
   ]
  },
  {
   "cell_type": "markdown",
   "id": "6bd22a87",
   "metadata": {},
   "source": [
    "**Nota:** Asegúrate de tener un archivo `.obj` llamado `eyeball.obj` dentro de una carpeta llamada `models` en el mismo directorio donde guardes este notebook."
   ]
  },
  {
   "cell_type": "code",
   "execution_count": 12,
   "id": "6dc7febd",
   "metadata": {},
   "outputs": [
    {
     "name": "stdout",
     "output_type": "stream",
     "text": [
      "Ruta del modelo: c:\\Users\\DANIEL\\Documents\\UNI\\sem 7\\compu visual\\Computacion_visual\\2025-04-21_taller_estructuras_3d\\python\\models\\eyeball.obj\n",
      "Modelo cargado exitosamente desde: c:\\Users\\DANIEL\\Documents\\UNI\\sem 7\\compu visual\\Computacion_visual\\2025-04-21_taller_estructuras_3d\\python\\models\\eyeball.obj\n",
      "Se cargó una escena. Usando la primera malla encontrada.\n",
      "\n",
      "--- Información Estructural del Modelo ---\n",
      "Número de vértices: 6593\n",
      "Número de caras: 13056\n",
      "Número de aristas únicas: 19648\n",
      "\n",
      "✅ Animación guardada como: animacion_malla.gif\n"
     ]
    }
   ],
   "source": [
    "# estructuras_3d_python.ipynb\n",
    "\n",
    "# --- Importar librerías necesarias ---\n",
    "import trimesh\n",
    "import vedo\n",
    "import numpy as np\n",
    "import matplotlib.pyplot as plt\n",
    "import os\n",
    "import imageio  # Para exportar GIF\n",
    "\n",
    "# --- Definir la ruta al modelo ---\n",
    "script_dir = os.getcwd()  # Funciona bien en notebooks\n",
    "model_path = os.path.join(script_dir, 'models', 'eyeball.obj')\n",
    "\n",
    "print(f\"Ruta del modelo: {model_path}\")  # Para verificar la ruta\n",
    "\n",
    "# --- Intentar cargar y visualizar el modelo ---\n",
    "try:\n",
    "    # Cargar el modelo usando trimesh\n",
    "    scene_or_mesh = trimesh.load(model_path)\n",
    "    print(f\"Modelo cargado exitosamente desde: {model_path}\")\n",
    "\n",
    "    # Verificar si es una escena o malla directamente\n",
    "    if isinstance(scene_or_mesh, trimesh.Scene):\n",
    "        mesh = scene_or_mesh.geometry[list(scene_or_mesh.geometry.keys())[0]]\n",
    "        print(\"Se cargó una escena. Usando la primera malla encontrada.\")\n",
    "    else:\n",
    "        mesh = scene_or_mesh\n",
    "\n",
    "    # --- Información estructural ---\n",
    "    num_vertices = len(mesh.vertices)\n",
    "    num_faces = len(mesh.faces)\n",
    "    num_edges = len(mesh.edges_unique)\n",
    "\n",
    "    print(\"\\n--- Información Estructural del Modelo ---\")\n",
    "    print(f\"Número de vértices: {num_vertices}\")\n",
    "    print(f\"Número de caras: {num_faces}\")\n",
    "    print(f\"Número de aristas únicas: {num_edges}\")\n",
    "\n",
    "    # --- Visualización con vedo ---\n",
    "    vedo_mesh = vedo.Mesh([mesh.vertices, mesh.faces])\n",
    "    point_cloud = vedo.Points(mesh.vertices, r=8, c=\"red\")  # Vértices\n",
    "    wireframe = vedo_mesh.wireframe().lw(2).c(\"green\")      # Aristas\n",
    "    surface = vedo_mesh.clone().c(\"blue\").alpha(0.7)        # Caras\n",
    "\n",
    "    plotter = vedo.Plotter(title=\"Visualización de Malla 3D\")\n",
    "    plotter.show(point_cloud, wireframe, surface, interactive=True)\n",
    "    plotter.close()\n",
    "\n",
    "    # --- Opcional: Animación rotando la malla y exportar como GIF ---\n",
    "    try:\n",
    "        images = []\n",
    "        plotter = vedo.Plotter(offscreen=True, size=(600, 600))\n",
    "        for i in range(36):\n",
    "            vedo_mesh.rotate_z(10)  # Rotar 10 grados por frame\n",
    "            plotter.show(vedo_mesh, resetcam=True)\n",
    "            img = plotter.screenshot(asarray=True)\n",
    "            images.append(img)\n",
    "\n",
    "        plotter.close()\n",
    "        imageio.mimsave('animacion_malla.gif', images, fps=10)\n",
    "        print(\"\\n✅ Animación guardada como: animacion_malla.gif\")\n",
    "\n",
    "    except Exception as e_anim:\n",
    "        print(f\"\\n⚠️ Error al generar la animación: {e_anim}\")\n",
    "\n",
    "except Exception as e_load:\n",
    "    print(f\"⚠️ Error al cargar el modelo: {e_load}\")\n"
   ]
  }
 ],
 "metadata": {
  "kernelspec": {
   "display_name": "Python 3",
   "language": "python",
   "name": "python3"
  },
  "language_info": {
   "codemirror_mode": {
    "name": "ipython",
    "version": 3
   },
   "file_extension": ".py",
   "mimetype": "text/x-python",
   "name": "python",
   "nbconvert_exporter": "python",
   "pygments_lexer": "ipython3",
   "version": "3.12.3"
  }
 },
 "nbformat": 4,
 "nbformat_minor": 5
}
